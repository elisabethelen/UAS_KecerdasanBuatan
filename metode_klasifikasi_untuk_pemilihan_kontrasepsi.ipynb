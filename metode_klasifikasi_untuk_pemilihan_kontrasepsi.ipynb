{
  "cells": [
    {
      "cell_type": "markdown",
      "metadata": {
        "id": "view-in-github",
        "colab_type": "text"
      },
      "source": [
        "<a href=\"https://colab.research.google.com/github/elisabethelen/UAS_KecerdasanBuatan/blob/main/metode_klasifikasi_untuk_pemilihan_kontrasepsi.ipynb\" target=\"_parent\"><img src=\"https://colab.research.google.com/assets/colab-badge.svg\" alt=\"Open In Colab\"/></a>"
      ]
    },
    {
      "cell_type": "markdown",
      "id": "c9736bd1",
      "metadata": {
        "papermill": {
          "duration": 0.011982,
          "end_time": "2022-10-30T14:11:25.953052",
          "exception": false,
          "start_time": "2022-10-30T14:11:25.941070",
          "status": "completed"
        },
        "tags": [],
        "id": "c9736bd1"
      },
      "source": [
        "### Import Library dan Data"
      ]
    },
    {
      "cell_type": "code",
      "source": [
        "from google.colab import drive\n",
        "drive.mount('/content/drive')"
      ],
      "metadata": {
        "colab": {
          "base_uri": "https://localhost:8080/"
        },
        "id": "YNoiWuBzhbuM",
        "outputId": "24045372-2746-45be-c9ff-92df34c85cf0"
      },
      "id": "YNoiWuBzhbuM",
      "execution_count": 4,
      "outputs": [
        {
          "output_type": "stream",
          "name": "stdout",
          "text": [
            "Drive already mounted at /content/drive; to attempt to forcibly remount, call drive.mount(\"/content/drive\", force_remount=True).\n"
          ]
        }
      ]
    },
    {
      "cell_type": "code",
      "execution_count": 5,
      "id": "ea30ba0e",
      "metadata": {
        "execution": {
          "iopub.execute_input": "2022-10-30T14:11:25.978935Z",
          "iopub.status.busy": "2022-10-30T14:11:25.978324Z",
          "iopub.status.idle": "2022-10-30T14:11:27.421552Z",
          "shell.execute_reply": "2022-10-30T14:11:27.420471Z"
        },
        "papermill": {
          "duration": 1.460487,
          "end_time": "2022-10-30T14:11:27.424345",
          "exception": false,
          "start_time": "2022-10-30T14:11:25.963858",
          "status": "completed"
        },
        "tags": [],
        "id": "ea30ba0e"
      },
      "outputs": [],
      "source": [
        "# import library python\n",
        "\n",
        "import numpy as np\n",
        "import pandas as pd\n",
        "import matplotlib.pyplot as plt\n",
        "import seaborn as sns\n",
        "from sklearn.neighbors import KNeighborsClassifier\n",
        "from sklearn.naive_bayes import GaussianNB\n",
        "from sklearn.tree import DecisionTreeClassifier\n",
        "from sklearn.model_selection import train_test_split\n",
        "from sklearn.metrics import accuracy_score, confusion_matrix, classification_report"
      ]
    },
    {
      "cell_type": "code",
      "execution_count": 6,
      "id": "3d521f9c",
      "metadata": {
        "execution": {
          "iopub.execute_input": "2022-10-30T14:11:27.447861Z",
          "iopub.status.busy": "2022-10-30T14:11:27.447489Z",
          "iopub.status.idle": "2022-10-30T14:11:27.474472Z",
          "shell.execute_reply": "2022-10-30T14:11:27.472933Z"
        },
        "papermill": {
          "duration": 0.041905,
          "end_time": "2022-10-30T14:11:27.477115",
          "exception": false,
          "start_time": "2022-10-30T14:11:27.435210",
          "status": "completed"
        },
        "tags": [],
        "id": "3d521f9c"
      },
      "outputs": [],
      "source": [
        "# import dataset\n",
        "\n",
        "data = pd.read_csv('/content/drive/MyDrive/UASKecerdasanBuatan/dataset/kontrasepsi.csv')"
      ]
    },
    {
      "cell_type": "markdown",
      "id": "4bf4bd90",
      "metadata": {
        "papermill": {
          "duration": 0.010553,
          "end_time": "2022-10-30T14:11:27.498519",
          "exception": false,
          "start_time": "2022-10-30T14:11:27.487966",
          "status": "completed"
        },
        "tags": [],
        "id": "4bf4bd90"
      },
      "source": [
        "# 1. Business Understanding"
      ]
    },
    {
      "cell_type": "markdown",
      "id": "29ea415c",
      "metadata": {
        "papermill": {
          "duration": 0.012489,
          "end_time": "2022-10-30T14:11:27.521694",
          "exception": false,
          "start_time": "2022-10-30T14:11:27.509205",
          "status": "completed"
        },
        "tags": [],
        "id": "29ea415c"
      },
      "source": [
        "Pemerintah Indonesia telah melakukan survey pravelansi kontrasepsi. Sampel penelitian adalah hasil wawancara dengan wanita yang tidak sedang hamil. Tujuan dari survey ini adalah memprediksi pemilihan metode kontrasepsi (no use, long-term methods, or short-term methods) berdasarkan karakteristik demografi dan sosial ekonomi\n",
        "\n",
        "(Source: https://archive.ics.uci.edu/ml/datasets/Contraceptive+Method+Choice)"
      ]
    },
    {
      "cell_type": "markdown",
      "id": "892c6253",
      "metadata": {
        "papermill": {
          "duration": 0.010491,
          "end_time": "2022-10-30T14:11:27.543171",
          "exception": false,
          "start_time": "2022-10-30T14:11:27.532680",
          "status": "completed"
        },
        "tags": [],
        "id": "892c6253"
      },
      "source": [
        "# 2. Data Understanding"
      ]
    },
    {
      "cell_type": "code",
      "execution_count": 7,
      "id": "d12fb8a1",
      "metadata": {
        "execution": {
          "iopub.execute_input": "2022-10-30T14:11:27.566419Z",
          "iopub.status.busy": "2022-10-30T14:11:27.566005Z",
          "iopub.status.idle": "2022-10-30T14:11:27.574619Z",
          "shell.execute_reply": "2022-10-30T14:11:27.573505Z"
        },
        "papermill": {
          "duration": 0.023024,
          "end_time": "2022-10-30T14:11:27.576876",
          "exception": false,
          "start_time": "2022-10-30T14:11:27.553852",
          "status": "completed"
        },
        "tags": [],
        "id": "d12fb8a1",
        "outputId": "8efac139-2e14-4c54-a914-42c0a689250d",
        "colab": {
          "base_uri": "https://localhost:8080/"
        }
      },
      "outputs": [
        {
          "output_type": "execute_result",
          "data": {
            "text/plain": [
              "(1334, 10)"
            ]
          },
          "metadata": {},
          "execution_count": 7
        }
      ],
      "source": [
        "# melihat dimensi data\n",
        "data.shape"
      ]
    },
    {
      "cell_type": "markdown",
      "id": "7ec7e217",
      "metadata": {
        "papermill": {
          "duration": 0.010772,
          "end_time": "2022-10-30T14:11:27.599023",
          "exception": false,
          "start_time": "2022-10-30T14:11:27.588251",
          "status": "completed"
        },
        "tags": [],
        "id": "7ec7e217"
      },
      "source": [
        "Dataset kontrasepsi.csv terdiri dari 1.334 data dan 10 atribut/feature"
      ]
    },
    {
      "cell_type": "code",
      "execution_count": 8,
      "id": "dbca74bd",
      "metadata": {
        "execution": {
          "iopub.execute_input": "2022-10-30T14:11:27.623593Z",
          "iopub.status.busy": "2022-10-30T14:11:27.622482Z",
          "iopub.status.idle": "2022-10-30T14:11:27.650577Z",
          "shell.execute_reply": "2022-10-30T14:11:27.649437Z"
        },
        "papermill": {
          "duration": 0.043009,
          "end_time": "2022-10-30T14:11:27.652876",
          "exception": false,
          "start_time": "2022-10-30T14:11:27.609867",
          "status": "completed"
        },
        "tags": [],
        "id": "dbca74bd",
        "outputId": "82efff50-2989-44ee-9653-dba2cddc3c4a",
        "colab": {
          "base_uri": "https://localhost:8080/"
        }
      },
      "outputs": [
        {
          "output_type": "stream",
          "name": "stdout",
          "text": [
            "<class 'pandas.core.frame.DataFrame'>\n",
            "RangeIndex: 1334 entries, 0 to 1333\n",
            "Data columns (total 10 columns):\n",
            " #   Column            Non-Null Count  Dtype \n",
            "---  ------            --------------  ----- \n",
            " 0   usia_istri        1334 non-null   int64 \n",
            " 1   pendidikan_istri  1334 non-null   object\n",
            " 2   pendidikan_suami  1334 non-null   object\n",
            " 3   jumlah_anak       1334 non-null   int64 \n",
            " 4   agama             1334 non-null   object\n",
            " 5   istri_bekerja     1334 non-null   object\n",
            " 6   kesibukan_suami   1334 non-null   object\n",
            " 7   standar_hidup     1334 non-null   object\n",
            " 8   ekspose_media     1334 non-null   object\n",
            " 9   metode            1334 non-null   object\n",
            "dtypes: int64(2), object(8)\n",
            "memory usage: 104.3+ KB\n"
          ]
        }
      ],
      "source": [
        "# melihat nama-nama atribut dan tipe data\n",
        "data.info()"
      ]
    },
    {
      "cell_type": "markdown",
      "id": "389d557d",
      "metadata": {
        "papermill": {
          "duration": 0.010853,
          "end_time": "2022-10-30T14:11:27.675115",
          "exception": false,
          "start_time": "2022-10-30T14:11:27.664262",
          "status": "completed"
        },
        "tags": [],
        "id": "389d557d"
      },
      "source": [
        "# 3. Data Preparation"
      ]
    },
    {
      "cell_type": "markdown",
      "id": "a302339a",
      "metadata": {
        "papermill": {
          "duration": 0.01122,
          "end_time": "2022-10-30T14:11:27.697668",
          "exception": false,
          "start_time": "2022-10-30T14:11:27.686448",
          "status": "completed"
        },
        "tags": [],
        "id": "a302339a"
      },
      "source": [
        "### 3.1. Cek Missing Value"
      ]
    },
    {
      "cell_type": "code",
      "execution_count": 9,
      "id": "e2c38e29",
      "metadata": {
        "execution": {
          "iopub.execute_input": "2022-10-30T14:11:27.722142Z",
          "iopub.status.busy": "2022-10-30T14:11:27.721358Z",
          "iopub.status.idle": "2022-10-30T14:11:27.731227Z",
          "shell.execute_reply": "2022-10-30T14:11:27.730152Z"
        },
        "papermill": {
          "duration": 0.024794,
          "end_time": "2022-10-30T14:11:27.733782",
          "exception": false,
          "start_time": "2022-10-30T14:11:27.708988",
          "status": "completed"
        },
        "tags": [],
        "id": "e2c38e29",
        "outputId": "8c955c72-e66f-4f91-9ff5-a598de7c0f2a",
        "colab": {
          "base_uri": "https://localhost:8080/"
        }
      },
      "outputs": [
        {
          "output_type": "execute_result",
          "data": {
            "text/plain": [
              "usia_istri          0\n",
              "pendidikan_istri    0\n",
              "pendidikan_suami    0\n",
              "jumlah_anak         0\n",
              "agama               0\n",
              "istri_bekerja       0\n",
              "kesibukan_suami     0\n",
              "standar_hidup       0\n",
              "ekspose_media       0\n",
              "metode              0\n",
              "dtype: int64"
            ]
          },
          "metadata": {},
          "execution_count": 9
        }
      ],
      "source": [
        "# cek apakah terdapat missing values\n",
        "data.isnull().sum()"
      ]
    },
    {
      "cell_type": "markdown",
      "id": "912369e4",
      "metadata": {
        "papermill": {
          "duration": 0.010711,
          "end_time": "2022-10-30T14:11:27.755834",
          "exception": false,
          "start_time": "2022-10-30T14:11:27.745123",
          "status": "completed"
        },
        "tags": [],
        "id": "912369e4"
      },
      "source": [
        "Nilai missing value dari semua atribut adalah 0 (nol), maka dapat diartikan tidak terdapat data missing value pada masing-masing atribut"
      ]
    },
    {
      "cell_type": "markdown",
      "id": "5263a6d1",
      "metadata": {
        "papermill": {
          "duration": 0.010726,
          "end_time": "2022-10-30T14:11:27.777472",
          "exception": false,
          "start_time": "2022-10-30T14:11:27.766746",
          "status": "completed"
        },
        "tags": [],
        "id": "5263a6d1"
      },
      "source": [
        "### 3.2. Exploratory Data Analysis"
      ]
    },
    {
      "cell_type": "markdown",
      "id": "dcf5ca64",
      "metadata": {
        "papermill": {
          "duration": 0.010633,
          "end_time": "2022-10-30T14:11:27.799121",
          "exception": false,
          "start_time": "2022-10-30T14:11:27.788488",
          "status": "completed"
        },
        "tags": [],
        "id": "dcf5ca64"
      },
      "source": [
        "#### 3.2.1. Univariate Analysis"
      ]
    },
    {
      "cell_type": "markdown",
      "id": "f9de5106",
      "metadata": {
        "papermill": {
          "duration": 0.01123,
          "end_time": "2022-10-30T14:11:27.822023",
          "exception": false,
          "start_time": "2022-10-30T14:11:27.810793",
          "status": "completed"
        },
        "tags": [],
        "id": "f9de5106"
      },
      "source": [
        "##### Hisotgram Bar"
      ]
    },
    {
      "cell_type": "code",
      "execution_count": 10,
      "id": "c17d6a2c",
      "metadata": {
        "execution": {
          "iopub.execute_input": "2022-10-30T14:11:27.846740Z",
          "iopub.status.busy": "2022-10-30T14:11:27.846321Z",
          "iopub.status.idle": "2022-10-30T14:11:28.130043Z",
          "shell.execute_reply": "2022-10-30T14:11:28.129234Z"
        },
        "papermill": {
          "duration": 0.29852,
          "end_time": "2022-10-30T14:11:28.132347",
          "exception": false,
          "start_time": "2022-10-30T14:11:27.833827",
          "status": "completed"
        },
        "tags": [],
        "id": "c17d6a2c",
        "outputId": "4357c1a3-2996-4aa5-fdf7-03a3d2122145",
        "colab": {
          "base_uri": "https://localhost:8080/",
          "height": 405
        }
      },
      "outputs": [
        {
          "output_type": "execute_result",
          "data": {
            "text/plain": [
              "<Axes: xlabel='usia_istri', ylabel='Count'>"
            ]
          },
          "metadata": {},
          "execution_count": 10
        },
        {
          "output_type": "display_data",
          "data": {
            "text/plain": [
              "<Figure size 400x400 with 1 Axes>"
            ],
            "image/png": "[encoded data removed]"
          },
          "metadata": {}
        }
      ],
      "source": [
        "# Atribut usia_istri\n",
        "plt.figure(figsize=(4,4))\n",
        "sns.histplot(data['usia_istri'])"
      ]
    },
    {
      "cell_type": "markdown",
      "id": "6e41e3dc",
      "metadata": {
        "papermill": {
          "duration": 0.011401,
          "end_time": "2022-10-30T14:11:28.155635",
          "exception": false,
          "start_time": "2022-10-30T14:11:28.144234",
          "status": "completed"
        },
        "tags": [],
        "id": "6e41e3dc"
      },
      "source": [
        "##### Bar Plot"
      ]
    },
    {
      "cell_type": "code",
      "execution_count": 11,
      "id": "4fba7b1f",
      "metadata": {
        "execution": {
          "iopub.execute_input": "2022-10-30T14:11:28.180689Z",
          "iopub.status.busy": "2022-10-30T14:11:28.179851Z",
          "iopub.status.idle": "2022-10-30T14:11:28.381990Z",
          "shell.execute_reply": "2022-10-30T14:11:28.380697Z"
        },
        "papermill": {
          "duration": 0.217618,
          "end_time": "2022-10-30T14:11:28.384759",
          "exception": false,
          "start_time": "2022-10-30T14:11:28.167141",
          "status": "completed"
        },
        "tags": [],
        "id": "4fba7b1f",
        "outputId": "7d779853-8134-482e-cba2-87d6c5e33a8a",
        "colab": {
          "base_uri": "https://localhost:8080/",
          "height": 405
        }
      },
      "outputs": [
        {
          "output_type": "execute_result",
          "data": {
            "text/plain": [
              "<Axes: xlabel='count', ylabel='pendidikan_istri'>"
            ]
          },
          "metadata": {},
          "execution_count": 11
        },
        {
          "output_type": "display_data",
          "data": {
            "text/plain": [
              "<Figure size 400x400 with 1 Axes>"
            ],
            "image/png": "[encoded data removed]"
          },
          "metadata": {}
        }
      ],
      "source": [
        "# Atribut pendidikan_istri\n",
        "plt.figure(figsize=(4,4))\n",
        "sns.countplot(data['pendidikan_istri'])"
      ]
    },
    {
      "cell_type": "markdown",
      "id": "988fa6ce",
      "metadata": {
        "papermill": {
          "duration": 0.011583,
          "end_time": "2022-10-30T14:11:28.408426",
          "exception": false,
          "start_time": "2022-10-30T14:11:28.396843",
          "status": "completed"
        },
        "tags": [],
        "id": "988fa6ce"
      },
      "source": [
        "##### Box Plot"
      ]
    },
    {
      "cell_type": "code",
      "execution_count": 12,
      "id": "5730a685",
      "metadata": {
        "execution": {
          "iopub.execute_input": "2022-10-30T14:11:28.435425Z",
          "iopub.status.busy": "2022-10-30T14:11:28.435018Z",
          "iopub.status.idle": "2022-10-30T14:11:28.614184Z",
          "shell.execute_reply": "2022-10-30T14:11:28.613172Z"
        },
        "papermill": {
          "duration": 0.195209,
          "end_time": "2022-10-30T14:11:28.617114",
          "exception": false,
          "start_time": "2022-10-30T14:11:28.421905",
          "status": "completed"
        },
        "tags": [],
        "id": "5730a685",
        "outputId": "c788c577-a0da-480b-9bd4-09b6d3d45a3c",
        "colab": {
          "base_uri": "https://localhost:8080/",
          "height": 366
        }
      },
      "outputs": [
        {
          "output_type": "execute_result",
          "data": {
            "text/plain": [
              "<Axes: ylabel='jumlah_anak'>"
            ]
          },
          "metadata": {},
          "execution_count": 12
        },
        {
          "output_type": "display_data",
          "data": {
            "text/plain": [
              "<Figure size 400x400 with 1 Axes>"
            ],
            "image/png": "[encoded data removed]"
          },
          "metadata": {}
        }
      ],
      "source": [
        "# atribut jumlah_anak\n",
        "\n",
        "plt.figure(figsize=(4,4))\n",
        "sns.boxplot(data['jumlah_anak'])"
      ]
    },
    {
      "cell_type": "markdown",
      "id": "f9b53ca3",
      "metadata": {
        "papermill": {
          "duration": 0.01916,
          "end_time": "2022-10-30T14:11:28.651976",
          "exception": false,
          "start_time": "2022-10-30T14:11:28.632816",
          "status": "completed"
        },
        "tags": [],
        "id": "f9b53ca3"
      },
      "source": [
        "#### 3.2.2. Bivariate Analysis"
      ]
    },
    {
      "cell_type": "markdown",
      "id": "2d225353",
      "metadata": {
        "papermill": {
          "duration": 0.011954,
          "end_time": "2022-10-30T14:11:28.676795",
          "exception": false,
          "start_time": "2022-10-30T14:11:28.664841",
          "status": "completed"
        },
        "tags": [],
        "id": "2d225353"
      },
      "source": [
        "##### Scatter Plot"
      ]
    },
    {
      "cell_type": "code",
      "execution_count": 13,
      "id": "baaeb970",
      "metadata": {
        "execution": {
          "iopub.execute_input": "2022-10-30T14:11:28.703567Z",
          "iopub.status.busy": "2022-10-30T14:11:28.703119Z",
          "iopub.status.idle": "2022-10-30T14:11:29.139340Z",
          "shell.execute_reply": "2022-10-30T14:11:29.138173Z"
        },
        "papermill": {
          "duration": 0.452769,
          "end_time": "2022-10-30T14:11:29.141764",
          "exception": false,
          "start_time": "2022-10-30T14:11:28.688995",
          "status": "completed"
        },
        "tags": [],
        "id": "baaeb970",
        "outputId": "51e0ec25-31f7-4b47-fdfd-d26e81f05707",
        "colab": {
          "base_uri": "https://localhost:8080/",
          "height": 713
        }
      },
      "outputs": [
        {
          "output_type": "execute_result",
          "data": {
            "text/plain": [
              "<Axes: xlabel='usia_istri', ylabel='jumlah_anak'>"
            ]
          },
          "metadata": {},
          "execution_count": 13
        },
        {
          "output_type": "display_data",
          "data": {
            "text/plain": [
              "<Figure size 800x800 with 1 Axes>"
            ],
            "image/png": "[encoded data removed]"
          },
          "metadata": {}
        }
      ],
      "source": [
        "# korelasi antara atribut usia_istri dan jumlah_anak\n",
        "\n",
        "plt.figure(figsize=(8,8))\n",
        "sns.scatterplot(x= data['usia_istri'], y=data['jumlah_anak'], hue=data['metode'])"
      ]
    },
    {
      "cell_type": "markdown",
      "id": "3dc08041",
      "metadata": {
        "papermill": {
          "duration": 0.013591,
          "end_time": "2022-10-30T14:11:29.168536",
          "exception": false,
          "start_time": "2022-10-30T14:11:29.154945",
          "status": "completed"
        },
        "tags": [],
        "id": "3dc08041"
      },
      "source": [
        "terlihat dari grafik scatter plot di atas bahwa tidak ada hubungan antara atribut usia_istri dengan atribut jumlah_anak"
      ]
    },
    {
      "cell_type": "markdown",
      "id": "2325ef4d",
      "metadata": {
        "papermill": {
          "duration": 0.012525,
          "end_time": "2022-10-30T14:11:29.193974",
          "exception": false,
          "start_time": "2022-10-30T14:11:29.181449",
          "status": "completed"
        },
        "tags": [],
        "id": "2325ef4d"
      },
      "source": [
        "### 3.3. Data Transformation and Discretization"
      ]
    },
    {
      "cell_type": "markdown",
      "id": "4f4bb148",
      "metadata": {
        "execution": {
          "iopub.execute_input": "2022-10-29T05:07:58.346852Z",
          "iopub.status.busy": "2022-10-29T05:07:58.345875Z",
          "iopub.status.idle": "2022-10-29T05:07:58.357331Z",
          "shell.execute_reply": "2022-10-29T05:07:58.354983Z",
          "shell.execute_reply.started": "2022-10-29T05:07:58.346794Z"
        },
        "papermill": {
          "duration": 0.012483,
          "end_time": "2022-10-30T14:11:29.219319",
          "exception": false,
          "start_time": "2022-10-30T14:11:29.206836",
          "status": "completed"
        },
        "tags": [],
        "id": "4f4bb148"
      },
      "source": [
        "Beberapa metode yang sering digunakan untuk mengubah data kategorik, antara lain:\n",
        "1. Manual\n",
        "2. LabelEncoder\n",
        "3. One-Hot Encoder\n",
        "\n",
        "Dalam contoh kasus ini tipe data kategorik diubah menjadi numerik dengan cara diubah secara **manual**."
      ]
    },
    {
      "cell_type": "code",
      "execution_count": 14,
      "id": "93500849",
      "metadata": {
        "execution": {
          "iopub.execute_input": "2022-10-30T14:11:29.246904Z",
          "iopub.status.busy": "2022-10-30T14:11:29.246419Z",
          "iopub.status.idle": "2022-10-30T14:11:29.256932Z",
          "shell.execute_reply": "2022-10-30T14:11:29.255392Z"
        },
        "papermill": {
          "duration": 0.026997,
          "end_time": "2022-10-30T14:11:29.259238",
          "exception": false,
          "start_time": "2022-10-30T14:11:29.232241",
          "status": "completed"
        },
        "tags": [],
        "id": "93500849",
        "outputId": "681d794e-577e-49f4-f379-a66111185785",
        "colab": {
          "base_uri": "https://localhost:8080/"
        }
      },
      "outputs": [
        {
          "output_type": "execute_result",
          "data": {
            "text/plain": [
              "pendidikan_istri\n",
              "SARJANA    542\n",
              "SMA        356\n",
              "SMP        290\n",
              "SD         146\n",
              "Name: count, dtype: int64"
            ]
          },
          "metadata": {},
          "execution_count": 14
        }
      ],
      "source": [
        "data['pendidikan_istri'].value_counts()"
      ]
    },
    {
      "cell_type": "code",
      "execution_count": 15,
      "id": "aace38a7",
      "metadata": {
        "execution": {
          "iopub.execute_input": "2022-10-30T14:11:29.287941Z",
          "iopub.status.busy": "2022-10-30T14:11:29.287448Z",
          "iopub.status.idle": "2022-10-30T14:11:29.298922Z",
          "shell.execute_reply": "2022-10-30T14:11:29.297634Z"
        },
        "papermill": {
          "duration": 0.028869,
          "end_time": "2022-10-30T14:11:29.301211",
          "exception": false,
          "start_time": "2022-10-30T14:11:29.272342",
          "status": "completed"
        },
        "tags": [],
        "id": "aace38a7",
        "outputId": "7fd043d2-dcc6-4837-9c44-a31c7adacb70",
        "colab": {
          "base_uri": "https://localhost:8080/"
        }
      },
      "outputs": [
        {
          "output_type": "execute_result",
          "data": {
            "text/plain": [
              "pendidikan_suami\n",
              "SARJANA    827\n",
              "SMA        307\n",
              "SMP        158\n",
              "SD          42\n",
              "Name: count, dtype: int64"
            ]
          },
          "metadata": {},
          "execution_count": 15
        }
      ],
      "source": [
        "data['pendidikan_suami'].value_counts()"
      ]
    },
    {
      "cell_type": "code",
      "execution_count": 16,
      "id": "281db72f",
      "metadata": {
        "execution": {
          "iopub.execute_input": "2022-10-30T14:11:29.329843Z",
          "iopub.status.busy": "2022-10-30T14:11:29.329441Z",
          "iopub.status.idle": "2022-10-30T14:11:29.337726Z",
          "shell.execute_reply": "2022-10-30T14:11:29.336883Z"
        },
        "papermill": {
          "duration": 0.02494,
          "end_time": "2022-10-30T14:11:29.339858",
          "exception": false,
          "start_time": "2022-10-30T14:11:29.314918",
          "status": "completed"
        },
        "tags": [],
        "id": "281db72f",
        "outputId": "6f7f7d6c-0988-4415-c7a2-d06ced2dafc6",
        "colab": {
          "base_uri": "https://localhost:8080/"
        }
      },
      "outputs": [
        {
          "output_type": "execute_result",
          "data": {
            "text/plain": [
              "agama\n",
              "Islam        1121\n",
              "Non-Islam     213\n",
              "Name: count, dtype: int64"
            ]
          },
          "metadata": {},
          "execution_count": 16
        }
      ],
      "source": [
        "data['agama'].value_counts()"
      ]
    },
    {
      "cell_type": "code",
      "execution_count": 17,
      "id": "7af7f71f",
      "metadata": {
        "execution": {
          "iopub.execute_input": "2022-10-30T14:11:29.368480Z",
          "iopub.status.busy": "2022-10-30T14:11:29.368023Z",
          "iopub.status.idle": "2022-10-30T14:11:29.376625Z",
          "shell.execute_reply": "2022-10-30T14:11:29.375563Z"
        },
        "papermill": {
          "duration": 0.025539,
          "end_time": "2022-10-30T14:11:29.378776",
          "exception": false,
          "start_time": "2022-10-30T14:11:29.353237",
          "status": "completed"
        },
        "tags": [],
        "id": "7af7f71f",
        "outputId": "55a58812-b47c-4003-d5a4-8f1ef8956850",
        "colab": {
          "base_uri": "https://localhost:8080/"
        }
      },
      "outputs": [
        {
          "output_type": "execute_result",
          "data": {
            "text/plain": [
              "istri_bekerja\n",
              "Ya       978\n",
              "Tidak    356\n",
              "Name: count, dtype: int64"
            ]
          },
          "metadata": {},
          "execution_count": 17
        }
      ],
      "source": [
        "data['istri_bekerja'].value_counts()"
      ]
    },
    {
      "cell_type": "code",
      "execution_count": 18,
      "id": "3c34b4ce",
      "metadata": {
        "execution": {
          "iopub.execute_input": "2022-10-30T14:11:29.407835Z",
          "iopub.status.busy": "2022-10-30T14:11:29.407426Z",
          "iopub.status.idle": "2022-10-30T14:11:29.416169Z",
          "shell.execute_reply": "2022-10-30T14:11:29.415103Z"
        },
        "papermill": {
          "duration": 0.026023,
          "end_time": "2022-10-30T14:11:29.418574",
          "exception": false,
          "start_time": "2022-10-30T14:11:29.392551",
          "status": "completed"
        },
        "tags": [],
        "id": "3c34b4ce",
        "outputId": "b7934b9d-2f4d-4a5c-8b47-c246092f6a40",
        "colab": {
          "base_uri": "https://localhost:8080/"
        }
      },
      "outputs": [
        {
          "output_type": "execute_result",
          "data": {
            "text/plain": [
              "kesibukan_suami\n",
              "tinggi           514\n",
              "rendah           417\n",
              "sedang           379\n",
              "sangat tinggi     24\n",
              "Name: count, dtype: int64"
            ]
          },
          "metadata": {},
          "execution_count": 18
        }
      ],
      "source": [
        "data['kesibukan_suami'].value_counts()"
      ]
    },
    {
      "cell_type": "code",
      "execution_count": 19,
      "id": "4674c558",
      "metadata": {
        "execution": {
          "iopub.execute_input": "2022-10-30T14:11:29.447765Z",
          "iopub.status.busy": "2022-10-30T14:11:29.447318Z",
          "iopub.status.idle": "2022-10-30T14:11:29.456116Z",
          "shell.execute_reply": "2022-10-30T14:11:29.454982Z"
        },
        "papermill": {
          "duration": 0.025733,
          "end_time": "2022-10-30T14:11:29.458379",
          "exception": false,
          "start_time": "2022-10-30T14:11:29.432646",
          "status": "completed"
        },
        "tags": [],
        "id": "4674c558",
        "outputId": "510f7d38-aa7b-4dd5-c1ef-3124e4f30e16",
        "colab": {
          "base_uri": "https://localhost:8080/"
        }
      },
      "outputs": [
        {
          "output_type": "execute_result",
          "data": {
            "text/plain": [
              "standar_hidup\n",
              "Sangat Tinggi    643\n",
              "Tinggi           389\n",
              "Sedang           195\n",
              "Rendah           107\n",
              "Name: count, dtype: int64"
            ]
          },
          "metadata": {},
          "execution_count": 19
        }
      ],
      "source": [
        "data['standar_hidup'].value_counts()"
      ]
    },
    {
      "cell_type": "code",
      "execution_count": 20,
      "id": "87a2a657",
      "metadata": {
        "execution": {
          "iopub.execute_input": "2022-10-30T14:11:29.487491Z",
          "iopub.status.busy": "2022-10-30T14:11:29.487093Z",
          "iopub.status.idle": "2022-10-30T14:11:29.495825Z",
          "shell.execute_reply": "2022-10-30T14:11:29.494675Z"
        },
        "papermill": {
          "duration": 0.02616,
          "end_time": "2022-10-30T14:11:29.498425",
          "exception": false,
          "start_time": "2022-10-30T14:11:29.472265",
          "status": "completed"
        },
        "tags": [],
        "id": "87a2a657",
        "outputId": "74abbb47-2682-4463-84ad-52697387027c",
        "colab": {
          "base_uri": "https://localhost:8080/"
        }
      },
      "outputs": [
        {
          "output_type": "execute_result",
          "data": {
            "text/plain": [
              "ekspose_media\n",
              "Tidak    1232\n",
              "Ya        102\n",
              "Name: count, dtype: int64"
            ]
          },
          "metadata": {},
          "execution_count": 20
        }
      ],
      "source": [
        "data['ekspose_media'].value_counts()"
      ]
    },
    {
      "cell_type": "code",
      "execution_count": 21,
      "id": "531827fd",
      "metadata": {
        "execution": {
          "iopub.execute_input": "2022-10-30T14:11:29.528151Z",
          "iopub.status.busy": "2022-10-30T14:11:29.527765Z",
          "iopub.status.idle": "2022-10-30T14:11:29.536005Z",
          "shell.execute_reply": "2022-10-30T14:11:29.535021Z"
        },
        "papermill": {
          "duration": 0.025419,
          "end_time": "2022-10-30T14:11:29.538061",
          "exception": false,
          "start_time": "2022-10-30T14:11:29.512642",
          "status": "completed"
        },
        "tags": [],
        "id": "531827fd",
        "outputId": "fa4bfb35-1fd7-44f2-9514-7c144bf647f5",
        "colab": {
          "base_uri": "https://localhost:8080/"
        }
      },
      "outputs": [
        {
          "output_type": "execute_result",
          "data": {
            "text/plain": [
              "metode\n",
              "No-Use        553\n",
              "Short-Term    462\n",
              "Long-Term     319\n",
              "Name: count, dtype: int64"
            ]
          },
          "metadata": {},
          "execution_count": 21
        }
      ],
      "source": [
        "data['metode'].value_counts()"
      ]
    },
    {
      "cell_type": "code",
      "execution_count": 22,
      "id": "780c97b5",
      "metadata": {
        "execution": {
          "iopub.execute_input": "2022-10-30T14:11:29.567393Z",
          "iopub.status.busy": "2022-10-30T14:11:29.567003Z",
          "iopub.status.idle": "2022-10-30T14:11:29.589190Z",
          "shell.execute_reply": "2022-10-30T14:11:29.587929Z"
        },
        "papermill": {
          "duration": 0.039924,
          "end_time": "2022-10-30T14:11:29.591888",
          "exception": false,
          "start_time": "2022-10-30T14:11:29.551964",
          "status": "completed"
        },
        "tags": [],
        "id": "780c97b5"
      },
      "outputs": [],
      "source": [
        "replace_map = {\n",
        "    \"pendidikan_istri\": {\n",
        "        'SD': 1,\n",
        "        'SMP': 2,\n",
        "        'SMA': 3,\n",
        "        'SARJANA': 4\n",
        "    },\n",
        "\n",
        "    \"pendidikan_suami\": {\n",
        "        'SD': 1,\n",
        "        'SMP': 2,\n",
        "        'SMA': 3,\n",
        "        'SARJANA': 4\n",
        "    },\n",
        "\n",
        "    \"agama\": {\n",
        "        'Islam': 1,\n",
        "        'Non-Islam': 2\n",
        "    },\n",
        "\n",
        "    \"istri_bekerja\": {\n",
        "        'Ya': 1,\n",
        "        'Tidak': 0\n",
        "    },\n",
        "\n",
        "    \"kesibukan_suami\": {\n",
        "        'rendah': 1,\n",
        "        'sedang': 2,\n",
        "        'tinggi': 3,\n",
        "        'sangat tinggi': 4\n",
        "    },\n",
        "\n",
        "    \"standar_hidup\": {\n",
        "        'Rendah': 1,\n",
        "        'Sedang': 2,\n",
        "        'Tinggi': 3,\n",
        "        'Sangat Tinggi': 4\n",
        "    },\n",
        "\n",
        "    \"ekspose_media\": {\n",
        "        'Ya': 1,\n",
        "        'Tidak': 0\n",
        "    },\n",
        "\n",
        "    \"metode\": {\n",
        "        'No-Use': 1,\n",
        "        'Short-Term': 2,\n",
        "        'Long-Term': 3\n",
        "    },\n",
        "}\n",
        "data = data.replace(replace_map)"
      ]
    },
    {
      "cell_type": "code",
      "execution_count": 23,
      "id": "33717fb2",
      "metadata": {
        "execution": {
          "iopub.execute_input": "2022-10-30T14:11:29.622718Z",
          "iopub.status.busy": "2022-10-30T14:11:29.621579Z",
          "iopub.status.idle": "2022-10-30T14:11:29.638821Z",
          "shell.execute_reply": "2022-10-30T14:11:29.637648Z"
        },
        "papermill": {
          "duration": 0.034578,
          "end_time": "2022-10-30T14:11:29.641158",
          "exception": false,
          "start_time": "2022-10-30T14:11:29.606580",
          "status": "completed"
        },
        "tags": [],
        "id": "33717fb2",
        "outputId": "727fa03a-1e27-4922-b491-fd9860cacf11",
        "colab": {
          "base_uri": "https://localhost:8080/",
          "height": 226
        }
      },
      "outputs": [
        {
          "output_type": "execute_result",
          "data": {
            "text/plain": [
              "   usia_istri  pendidikan_istri  pendidikan_suami  jumlah_anak  agama  \\\n",
              "0          45                 3                 4            2      2   \n",
              "1          22                 3                 3            1      1   \n",
              "2          26                 3                 3            3      1   \n",
              "3          29                 2                 4            2      1   \n",
              "4          31                 3                 3            2      1   \n",
              "\n",
              "   istri_bekerja  kesibukan_suami  standar_hidup  ekspose_media  metode  \n",
              "0              1                3              3              0       2  \n",
              "1              1                3              2              0       2  \n",
              "2              1                3              3              0       2  \n",
              "3              1                3              2              0       2  \n",
              "4              0                3              3              0       1  "
            ],
            "text/html": [
              "\n",
              "  <div id=\"df-08d509db-d98b-4f78-996e-885d8d6b665d\" class=\"colab-df-container\">\n",
              "    <div>\n",
              "<style scoped>\n",
              "    .dataframe tbody tr th:only-of-type {\n",
              "        vertical-align: middle;\n",
              "    }\n",
              "\n",
              "    .dataframe tbody tr th {\n",
              "        vertical-align: top;\n",
              "    }\n",
              "\n",
              "    .dataframe thead th {\n",
              "        text-align: right;\n",
              "    }\n",
              "</style>\n",
              "<table border=\"1\" class=\"dataframe\">\n",
              "  <thead>\n",
              "    <tr style=\"text-align: right;\">\n",
              "      <th></th>\n",
              "      <th>usia_istri</th>\n",
              "      <th>pendidikan_istri</th>\n",
              "      <th>pendidikan_suami</th>\n",
              "      <th>jumlah_anak</th>\n",
              "      <th>agama</th>\n",
              "      <th>istri_bekerja</th>\n",
              "      <th>kesibukan_suami</th>\n",
              "      <th>standar_hidup</th>\n",
              "      <th>ekspose_media</th>\n",
              "      <th>metode</th>\n",
              "    </tr>\n",
              "  </thead>\n",
              "  <tbody>\n",
              "    <tr>\n",
              "      <th>0</th>\n",
              "      <td>45</td>\n",
              "      <td>3</td>\n",
              "      <td>4</td>\n",
              "      <td>2</td>\n",
              "      <td>2</td>\n",
              "      <td>1</td>\n",
              "      <td>3</td>\n",
              "      <td>3</td>\n",
              "      <td>0</td>\n",
              "      <td>2</td>\n",
              "    </tr>\n",
              "    <tr>\n",
              "      <th>1</th>\n",
              "      <td>22</td>\n",
              "      <td>3</td>\n",
              "      <td>3</td>\n",
              "      <td>1</td>\n",
              "      <td>1</td>\n",
              "      <td>1</td>\n",
              "      <td>3</td>\n",
              "      <td>2</td>\n",
              "      <td>0</td>\n",
              "      <td>2</td>\n",
              "    </tr>\n",
              "    <tr>\n",
              "      <th>2</th>\n",
              "      <td>26</td>\n",
              "      <td>3</td>\n",
              "      <td>3</td>\n",
              "      <td>3</td>\n",
              "      <td>1</td>\n",
              "      <td>1</td>\n",
              "      <td>3</td>\n",
              "      <td>3</td>\n",
              "      <td>0</td>\n",
              "      <td>2</td>\n",
              "    </tr>\n",
              "    <tr>\n",
              "      <th>3</th>\n",
              "      <td>29</td>\n",
              "      <td>2</td>\n",
              "      <td>4</td>\n",
              "      <td>2</td>\n",
              "      <td>1</td>\n",
              "      <td>1</td>\n",
              "      <td>3</td>\n",
              "      <td>2</td>\n",
              "      <td>0</td>\n",
              "      <td>2</td>\n",
              "    </tr>\n",
              "    <tr>\n",
              "      <th>4</th>\n",
              "      <td>31</td>\n",
              "      <td>3</td>\n",
              "      <td>3</td>\n",
              "      <td>2</td>\n",
              "      <td>1</td>\n",
              "      <td>0</td>\n",
              "      <td>3</td>\n",
              "      <td>3</td>\n",
              "      <td>0</td>\n",
              "      <td>1</td>\n",
              "    </tr>\n",
              "  </tbody>\n",
              "</table>\n",
              "</div>\n",
              "    <div class=\"colab-df-buttons\">\n",
              "\n",
              "  <div class=\"colab-df-container\">\n",
              "    <button class=\"colab-df-convert\" onclick=\"convertToInteractive('df-08d509db-d98b-4f78-996e-885d8d6b665d')\"\n",
              "            title=\"Convert this dataframe to an interactive table.\"\n",
              "            style=\"display:none;\">\n",
              "\n",
              "  <svg xmlns=\"http://www.w3.org/2000/svg\" height=\"24px\" viewBox=\"0 -960 960 960\">\n",
              "    <path d=\"M120-120v-720h720v720H120Zm60-500h600v-160H180v160Zm220 220h160v-160H400v160Zm0 220h160v-160H400v160ZM180-400h160v-160H180v160Zm440 0h160v-160H620v160ZM180-180h160v-160H180v160Zm440 0h160v-160H620v160Z\"/>\n",
              "  </svg>\n",
              "    </button>\n",
              "\n",
              "  <style>\n",
              "    .colab-df-container {\n",
              "      display:flex;\n",
              "      gap: 12px;\n",
              "    }\n",
              "\n",
              "    .colab-df-convert {\n",
              "      background-color: #E8F0FE;\n",
              "      border: none;\n",
              "      border-radius: 50%;\n",
              "      cursor: pointer;\n",
              "      display: none;\n",
              "      fill: #1967D2;\n",
              "      height: 32px;\n",
              "      padding: 0 0 0 0;\n",
              "      width: 32px;\n",
              "    }\n",
              "\n",
              "    .colab-df-convert:hover {\n",
              "      background-color: #E2EBFA;\n",
              "      box-shadow: 0px 1px 2px rgba(60, 64, 67, 0.3), 0px 1px 3px 1px rgba(60, 64, 67, 0.15);\n",
              "      fill: #174EA6;\n",
              "    }\n",
              "\n",
              "    .colab-df-buttons div {\n",
              "      margin-bottom: 4px;\n",
              "    }\n",
              "\n",
              "    [theme=dark] .colab-df-convert {\n",
              "      background-color: #3B4455;\n",
              "      fill: #D2E3FC;\n",
              "    }\n",
              "\n",
              "    [theme=dark] .colab-df-convert:hover {\n",
              "      background-color: #434B5C;\n",
              "      box-shadow: 0px 1px 3px 1px rgba(0, 0, 0, 0.15);\n",
              "      filter: drop-shadow(0px 1px 2px rgba(0, 0, 0, 0.3));\n",
              "      fill: #FFFFFF;\n",
              "    }\n",
              "  </style>\n",
              "\n",
              "    <script>\n",
              "      const buttonEl =\n",
              "        document.querySelector('#df-08d509db-d98b-4f78-996e-885d8d6b665d button.colab-df-convert');\n",
              "      buttonEl.style.display =\n",
              "        google.colab.kernel.accessAllowed ? 'block' : 'none';\n",
              "\n",
              "      async function convertToInteractive(key) {\n",
              "        const element = document.querySelector('#df-08d509db-d98b-4f78-996e-885d8d6b665d');\n",
              "        const dataTable =\n",
              "          await google.colab.kernel.invokeFunction('convertToInteractive',\n",
              "                                                    [key], {});\n",
              "        if (!dataTable) return;\n",
              "\n",
              "        const docLinkHtml = 'Like what you see? Visit the ' +\n",
              "          '<a target=\"_blank\" href=https://colab.research.google.com/notebooks/data_table.ipynb>data table notebook</a>'\n",
              "          + ' to learn more about interactive tables.';\n",
              "        element.innerHTML = '';\n",
              "        dataTable['output_type'] = 'display_data';\n",
              "        await google.colab.output.renderOutput(dataTable, element);\n",
              "        const docLink = document.createElement('div');\n",
              "        docLink.innerHTML = docLinkHtml;\n",
              "        element.appendChild(docLink);\n",
              "      }\n",
              "    </script>\n",
              "  </div>\n",
              "\n",
              "\n",
              "<div id=\"df-e6e6259c-b4f9-4d81-a684-0fe05e2684c8\">\n",
              "  <button class=\"colab-df-quickchart\" onclick=\"quickchart('df-e6e6259c-b4f9-4d81-a684-0fe05e2684c8')\"\n",
              "            title=\"Suggest charts\"\n",
              "            style=\"display:none;\">\n",
              "\n",
              "<svg xmlns=\"http://www.w3.org/2000/svg\" height=\"24px\"viewBox=\"0 0 24 24\"\n",
              "     width=\"24px\">\n",
              "    <g>\n",
              "        <path d=\"M19 3H5c-1.1 0-2 .9-2 2v14c0 1.1.9 2 2 2h14c1.1 0 2-.9 2-2V5c0-1.1-.9-2-2-2zM9 17H7v-7h2v7zm4 0h-2V7h2v10zm4 0h-2v-4h2v4z\"/>\n",
              "    </g>\n",
              "</svg>\n",
              "  </button>\n",
              "\n",
              "<style>\n",
              "  .colab-df-quickchart {\n",
              "      --bg-color: #E8F0FE;\n",
              "      --fill-color: #1967D2;\n",
              "      --hover-bg-color: #E2EBFA;\n",
              "      --hover-fill-color: #174EA6;\n",
              "      --disabled-fill-color: #AAA;\n",
              "      --disabled-bg-color: #DDD;\n",
              "  }\n",
              "\n",
              "  [theme=dark] .colab-df-quickchart {\n",
              "      --bg-color: #3B4455;\n",
              "      --fill-color: #D2E3FC;\n",
              "      --hover-bg-color: #434B5C;\n",
              "      --hover-fill-color: #FFFFFF;\n",
              "      --disabled-bg-color: #3B4455;\n",
              "      --disabled-fill-color: #666;\n",
              "  }\n",
              "\n",
              "  .colab-df-quickchart {\n",
              "    background-color: var(--bg-color);\n",
              "    border: none;\n",
              "    border-radius: 50%;\n",
              "    cursor: pointer;\n",
              "    display: none;\n",
              "    fill: var(--fill-color);\n",
              "    height: 32px;\n",
              "    padding: 0;\n",
              "    width: 32px;\n",
              "  }\n",
              "\n",
              "  .colab-df-quickchart:hover {\n",
              "    background-color: var(--hover-bg-color);\n",
              "    box-shadow: 0 1px 2px rgba(60, 64, 67, 0.3), 0 1px 3px 1px rgba(60, 64, 67, 0.15);\n",
              "    fill: var(--button-hover-fill-color);\n",
              "  }\n",
              "\n",
              "  .colab-df-quickchart-complete:disabled,\n",
              "  .colab-df-quickchart-complete:disabled:hover {\n",
              "    background-color: var(--disabled-bg-color);\n",
              "    fill: var(--disabled-fill-color);\n",
              "    box-shadow: none;\n",
              "  }\n",
              "\n",
              "  .colab-df-spinner {\n",
              "    border: 2px solid var(--fill-color);\n",
              "    border-color: transparent;\n",
              "    border-bottom-color: var(--fill-color);\n",
              "    animation:\n",
              "      spin 1s steps(1) infinite;\n",
              "  }\n",
              "\n",
              "  @keyframes spin {\n",
              "    0% {\n",
              "      border-color: transparent;\n",
              "      border-bottom-color: var(--fill-color);\n",
              "      border-left-color: var(--fill-color);\n",
              "    }\n",
              "    20% {\n",
              "      border-color: transparent;\n",
              "      border-left-color: var(--fill-color);\n",
              "      border-top-color: var(--fill-color);\n",
              "    }\n",
              "    30% {\n",
              "      border-color: transparent;\n",
              "      border-left-color: var(--fill-color);\n",
              "      border-top-color: var(--fill-color);\n",
              "      border-right-color: var(--fill-color);\n",
              "    }\n",
              "    40% {\n",
              "      border-color: transparent;\n",
              "      border-right-color: var(--fill-color);\n",
              "      border-top-color: var(--fill-color);\n",
              "    }\n",
              "    60% {\n",
              "      border-color: transparent;\n",
              "      border-right-color: var(--fill-color);\n",
              "    }\n",
              "    80% {\n",
              "      border-color: transparent;\n",
              "      border-right-color: var(--fill-color);\n",
              "      border-bottom-color: var(--fill-color);\n",
              "    }\n",
              "    90% {\n",
              "      border-color: transparent;\n",
              "      border-bottom-color: var(--fill-color);\n",
              "    }\n",
              "  }\n",
              "</style>\n",
              "\n",
              "  <script>\n",
              "    async function quickchart(key) {\n",
              "      const quickchartButtonEl =\n",
              "        document.querySelector('#' + key + ' button');\n",
              "      quickchartButtonEl.disabled = true;  // To prevent multiple clicks.\n",
              "      quickchartButtonEl.classList.add('colab-df-spinner');\n",
              "      try {\n",
              "        const charts = await google.colab.kernel.invokeFunction(\n",
              "            'suggestCharts', [key], {});\n",
              "      } catch (error) {\n",
              "        console.error('Error during call to suggestCharts:', error);\n",
              "      }\n",
              "      quickchartButtonEl.classList.remove('colab-df-spinner');\n",
              "      quickchartButtonEl.classList.add('colab-df-quickchart-complete');\n",
              "    }\n",
              "    (() => {\n",
              "      let quickchartButtonEl =\n",
              "        document.querySelector('#df-e6e6259c-b4f9-4d81-a684-0fe05e2684c8 button');\n",
              "      quickchartButtonEl.style.display =\n",
              "        google.colab.kernel.accessAllowed ? 'block' : 'none';\n",
              "    })();\n",
              "  </script>\n",
              "</div>\n",
              "\n",
              "    </div>\n",
              "  </div>\n"
            ],
            "application/vnd.google.colaboratory.intrinsic+json": {
              "type": "dataframe",
              "variable_name": "data",
              "summary": "{\n  \"name\": \"data\",\n  \"rows\": 1334,\n  \"fields\": [\n    {\n      \"column\": \"usia_istri\",\n      \"properties\": {\n        \"dtype\": \"number\",\n        \"std\": 7,\n        \"min\": 22,\n        \"max\": 49,\n        \"num_unique_values\": 28,\n        \"samples\": [\n          36,\n          28,\n          41\n        ],\n        \"semantic_type\": \"\",\n        \"description\": \"\"\n      }\n    },\n    {\n      \"column\": \"pendidikan_istri\",\n      \"properties\": {\n        \"dtype\": \"number\",\n        \"std\": 1,\n        \"min\": 1,\n        \"max\": 4,\n        \"num_unique_values\": 4,\n        \"samples\": [\n          2,\n          1,\n          3\n        ],\n        \"semantic_type\": \"\",\n        \"description\": \"\"\n      }\n    },\n    {\n      \"column\": \"pendidikan_suami\",\n      \"properties\": {\n        \"dtype\": \"number\",\n        \"std\": 0,\n        \"min\": 1,\n        \"max\": 4,\n        \"num_unique_values\": 4,\n        \"samples\": [\n          3,\n          1,\n          4\n        ],\n        \"semantic_type\": \"\",\n        \"description\": \"\"\n      }\n    },\n    {\n      \"column\": \"jumlah_anak\",\n      \"properties\": {\n        \"dtype\": \"number\",\n        \"std\": 2,\n        \"min\": 0,\n        \"max\": 16,\n        \"num_unique_values\": 15,\n        \"samples\": [\n          11,\n          16,\n          2\n        ],\n        \"semantic_type\": \"\",\n        \"description\": \"\"\n      }\n    },\n    {\n      \"column\": \"agama\",\n      \"properties\": {\n        \"dtype\": \"number\",\n        \"std\": 0,\n        \"min\": 1,\n        \"max\": 2,\n        \"num_unique_values\": 2,\n        \"samples\": [\n          1,\n          2\n        ],\n        \"semantic_type\": \"\",\n        \"description\": \"\"\n      }\n    },\n    {\n      \"column\": \"istri_bekerja\",\n      \"properties\": {\n        \"dtype\": \"number\",\n        \"std\": 0,\n        \"min\": 0,\n        \"max\": 1,\n        \"num_unique_values\": 2,\n        \"samples\": [\n          0,\n          1\n        ],\n        \"semantic_type\": \"\",\n        \"description\": \"\"\n      }\n    },\n    {\n      \"column\": \"kesibukan_suami\",\n      \"properties\": {\n        \"dtype\": \"number\",\n        \"std\": 0,\n        \"min\": 1,\n        \"max\": 4,\n        \"num_unique_values\": 4,\n        \"samples\": [\n          1,\n          4\n        ],\n        \"semantic_type\": \"\",\n        \"description\": \"\"\n      }\n    },\n    {\n      \"column\": \"standar_hidup\",\n      \"properties\": {\n        \"dtype\": \"number\",\n        \"std\": 0,\n        \"min\": 1,\n        \"max\": 4,\n        \"num_unique_values\": 4,\n        \"samples\": [\n          2,\n          1\n        ],\n        \"semantic_type\": \"\",\n        \"description\": \"\"\n      }\n    },\n    {\n      \"column\": \"ekspose_media\",\n      \"properties\": {\n        \"dtype\": \"number\",\n        \"std\": 0,\n        \"min\": 0,\n        \"max\": 1,\n        \"num_unique_values\": 2,\n        \"samples\": [\n          1,\n          0\n        ],\n        \"semantic_type\": \"\",\n        \"description\": \"\"\n      }\n    },\n    {\n      \"column\": \"metode\",\n      \"properties\": {\n        \"dtype\": \"number\",\n        \"std\": 0,\n        \"min\": 1,\n        \"max\": 3,\n        \"num_unique_values\": 3,\n        \"samples\": [\n          2,\n          1\n        ],\n        \"semantic_type\": \"\",\n        \"description\": \"\"\n      }\n    }\n  ]\n}"
            }
          },
          "metadata": {},
          "execution_count": 23
        }
      ],
      "source": [
        "data.head()"
      ]
    },
    {
      "cell_type": "markdown",
      "id": "b12f0988",
      "metadata": {
        "papermill": {
          "duration": 0.013787,
          "end_time": "2022-10-30T14:11:29.669106",
          "exception": false,
          "start_time": "2022-10-30T14:11:29.655319",
          "status": "completed"
        },
        "tags": [],
        "id": "b12f0988"
      },
      "source": [
        "#### Correlation Matrix"
      ]
    },
    {
      "cell_type": "code",
      "execution_count": 24,
      "id": "71a0afd1",
      "metadata": {
        "execution": {
          "iopub.execute_input": "2022-10-30T14:11:29.699709Z",
          "iopub.status.busy": "2022-10-30T14:11:29.698936Z",
          "iopub.status.idle": "2022-10-30T14:11:29.719528Z",
          "shell.execute_reply": "2022-10-30T14:11:29.718454Z"
        },
        "papermill": {
          "duration": 0.038861,
          "end_time": "2022-10-30T14:11:29.721947",
          "exception": false,
          "start_time": "2022-10-30T14:11:29.683086",
          "status": "completed"
        },
        "tags": [],
        "id": "71a0afd1",
        "outputId": "3b22231c-9ead-4215-dc21-0e8e4f4f87b4",
        "colab": {
          "base_uri": "https://localhost:8080/",
          "height": 383
        }
      },
      "outputs": [
        {
          "output_type": "execute_result",
          "data": {
            "text/plain": [
              "                  usia_istri  pendidikan_istri  pendidikan_suami  jumlah_anak  \\\n",
              "usia_istri          1.000000         -0.070373         -0.076095     0.479692   \n",
              "pendidikan_istri   -0.070373          1.000000          0.620268    -0.212033   \n",
              "pendidikan_suami   -0.076095          0.620268          1.000000    -0.207587   \n",
              "jumlah_anak         0.479692         -0.212033         -0.207587     1.000000   \n",
              "agama               0.115273          0.239231          0.186216    -0.101617   \n",
              "istri_bekerja       0.015477         -0.068582          0.000242     0.133114   \n",
              "kesibukan_suami    -0.186083         -0.387630         -0.333557    -0.001326   \n",
              "standar_hidup       0.142100          0.380579          0.362992    -0.049795   \n",
              "ekspose_media       0.118412         -0.344980         -0.288130     0.135407   \n",
              "metode             -0.042930          0.293271          0.186095     0.119251   \n",
              "\n",
              "                     agama  istri_bekerja  kesibukan_suami  standar_hidup  \\\n",
              "usia_istri        0.115273       0.015477        -0.186083       0.142100   \n",
              "pendidikan_istri  0.239231      -0.068582        -0.387630       0.380579   \n",
              "pendidikan_suami  0.186216       0.000242        -0.333557       0.362992   \n",
              "jumlah_anak      -0.101617       0.133114        -0.001326      -0.049795   \n",
              "agama             1.000000      -0.060875        -0.084975       0.191432   \n",
              "istri_bekerja    -0.060875       1.000000         0.007194      -0.068184   \n",
              "kesibukan_suami  -0.084975       0.007194         1.000000      -0.293298   \n",
              "standar_hidup     0.191432      -0.068184        -0.293298       1.000000   \n",
              "ekspose_media    -0.063815       0.014161         0.119598      -0.270515   \n",
              "metode            0.107252       0.020514        -0.128252       0.207202   \n",
              "\n",
              "                  ekspose_media    metode  \n",
              "usia_istri             0.118412 -0.042930  \n",
              "pendidikan_istri      -0.344980  0.293271  \n",
              "pendidikan_suami      -0.288130  0.186095  \n",
              "jumlah_anak            0.135407  0.119251  \n",
              "agama                 -0.063815  0.107252  \n",
              "istri_bekerja          0.014161  0.020514  \n",
              "kesibukan_suami        0.119598 -0.128252  \n",
              "standar_hidup         -0.270515  0.207202  \n",
              "ekspose_media          1.000000 -0.157653  \n",
              "metode                -0.157653  1.000000  "
            ],
            "text/html": [
              "\n",
              "  <div id=\"df-ae842925-13a5-4923-a346-05a65b74f487\" class=\"colab-df-container\">\n",
              "    <div>\n",
              "<style scoped>\n",
              "    .dataframe tbody tr th:only-of-type {\n",
              "        vertical-align: middle;\n",
              "    }\n",
              "\n",
              "    .dataframe tbody tr th {\n",
              "        vertical-align: top;\n",
              "    }\n",
              "\n",
              "    .dataframe thead th {\n",
              "        text-align: right;\n",
              "    }\n",
              "</style>\n",
              "<table border=\"1\" class=\"dataframe\">\n",
              "  <thead>\n",
              "    <tr style=\"text-align: right;\">\n",
              "      <th></th>\n",
              "      <th>usia_istri</th>\n",
              "      <th>pendidikan_istri</th>\n",
              "      <th>pendidikan_suami</th>\n",
              "      <th>jumlah_anak</th>\n",
              "      <th>agama</th>\n",
              "      <th>istri_bekerja</th>\n",
              "      <th>kesibukan_suami</th>\n",
              "      <th>standar_hidup</th>\n",
              "      <th>ekspose_media</th>\n",
              "      <th>metode</th>\n",
              "    </tr>\n",
              "  </thead>\n",
              "  <tbody>\n",
              "    <tr>\n",
              "      <th>usia_istri</th>\n",
              "      <td>1.000000</td>\n",
              "      <td>-0.070373</td>\n",
              "      <td>-0.076095</td>\n",
              "      <td>0.479692</td>\n",
              "      <td>0.115273</td>\n",
              "      <td>0.015477</td>\n",
              "      <td>-0.186083</td>\n",
              "      <td>0.142100</td>\n",
              "      <td>0.118412</td>\n",
              "      <td>-0.042930</td>\n",
              "    </tr>\n",
              "    <tr>\n",
              "      <th>pendidikan_istri</th>\n",
              "      <td>-0.070373</td>\n",
              "      <td>1.000000</td>\n",
              "      <td>0.620268</td>\n",
              "      <td>-0.212033</td>\n",
              "      <td>0.239231</td>\n",
              "      <td>-0.068582</td>\n",
              "      <td>-0.387630</td>\n",
              "      <td>0.380579</td>\n",
              "      <td>-0.344980</td>\n",
              "      <td>0.293271</td>\n",
              "    </tr>\n",
              "    <tr>\n",
              "      <th>pendidikan_suami</th>\n",
              "      <td>-0.076095</td>\n",
              "      <td>0.620268</td>\n",
              "      <td>1.000000</td>\n",
              "      <td>-0.207587</td>\n",
              "      <td>0.186216</td>\n",
              "      <td>0.000242</td>\n",
              "      <td>-0.333557</td>\n",
              "      <td>0.362992</td>\n",
              "      <td>-0.288130</td>\n",
              "      <td>0.186095</td>\n",
              "    </tr>\n",
              "    <tr>\n",
              "      <th>jumlah_anak</th>\n",
              "      <td>0.479692</td>\n",
              "      <td>-0.212033</td>\n",
              "      <td>-0.207587</td>\n",
              "      <td>1.000000</td>\n",
              "      <td>-0.101617</td>\n",
              "      <td>0.133114</td>\n",
              "      <td>-0.001326</td>\n",
              "      <td>-0.049795</td>\n",
              "      <td>0.135407</td>\n",
              "      <td>0.119251</td>\n",
              "    </tr>\n",
              "    <tr>\n",
              "      <th>agama</th>\n",
              "      <td>0.115273</td>\n",
              "      <td>0.239231</td>\n",
              "      <td>0.186216</td>\n",
              "      <td>-0.101617</td>\n",
              "      <td>1.000000</td>\n",
              "      <td>-0.060875</td>\n",
              "      <td>-0.084975</td>\n",
              "      <td>0.191432</td>\n",
              "      <td>-0.063815</td>\n",
              "      <td>0.107252</td>\n",
              "    </tr>\n",
              "    <tr>\n",
              "      <th>istri_bekerja</th>\n",
              "      <td>0.015477</td>\n",
              "      <td>-0.068582</td>\n",
              "      <td>0.000242</td>\n",
              "      <td>0.133114</td>\n",
              "      <td>-0.060875</td>\n",
              "      <td>1.000000</td>\n",
              "      <td>0.007194</td>\n",
              "      <td>-0.068184</td>\n",
              "      <td>0.014161</td>\n",
              "      <td>0.020514</td>\n",
              "    </tr>\n",
              "    <tr>\n",
              "      <th>kesibukan_suami</th>\n",
              "      <td>-0.186083</td>\n",
              "      <td>-0.387630</td>\n",
              "      <td>-0.333557</td>\n",
              "      <td>-0.001326</td>\n",
              "      <td>-0.084975</td>\n",
              "      <td>0.007194</td>\n",
              "      <td>1.000000</td>\n",
              "      <td>-0.293298</td>\n",
              "      <td>0.119598</td>\n",
              "      <td>-0.128252</td>\n",
              "    </tr>\n",
              "    <tr>\n",
              "      <th>standar_hidup</th>\n",
              "      <td>0.142100</td>\n",
              "      <td>0.380579</td>\n",
              "      <td>0.362992</td>\n",
              "      <td>-0.049795</td>\n",
              "      <td>0.191432</td>\n",
              "      <td>-0.068184</td>\n",
              "      <td>-0.293298</td>\n",
              "      <td>1.000000</td>\n",
              "      <td>-0.270515</td>\n",
              "      <td>0.207202</td>\n",
              "    </tr>\n",
              "    <tr>\n",
              "      <th>ekspose_media</th>\n",
              "      <td>0.118412</td>\n",
              "      <td>-0.344980</td>\n",
              "      <td>-0.288130</td>\n",
              "      <td>0.135407</td>\n",
              "      <td>-0.063815</td>\n",
              "      <td>0.014161</td>\n",
              "      <td>0.119598</td>\n",
              "      <td>-0.270515</td>\n",
              "      <td>1.000000</td>\n",
              "      <td>-0.157653</td>\n",
              "    </tr>\n",
              "    <tr>\n",
              "      <th>metode</th>\n",
              "      <td>-0.042930</td>\n",
              "      <td>0.293271</td>\n",
              "      <td>0.186095</td>\n",
              "      <td>0.119251</td>\n",
              "      <td>0.107252</td>\n",
              "      <td>0.020514</td>\n",
              "      <td>-0.128252</td>\n",
              "      <td>0.207202</td>\n",
              "      <td>-0.157653</td>\n",
              "      <td>1.000000</td>\n",
              "    </tr>\n",
              "  </tbody>\n",
              "</table>\n",
              "</div>\n",
              "    <div class=\"colab-df-buttons\">\n",
              "\n",
              "  <div class=\"colab-df-container\">\n",
              "    <button class=\"colab-df-convert\" onclick=\"convertToInteractive('df-ae842925-13a5-4923-a346-05a65b74f487')\"\n",
              "            title=\"Convert this dataframe to an interactive table.\"\n",
              "            style=\"display:none;\">\n",
              "\n",
              "  <svg xmlns=\"http://www.w3.org/2000/svg\" height=\"24px\" viewBox=\"0 -960 960 960\">\n",
              "    <path d=\"M120-120v-720h720v720H120Zm60-500h600v-160H180v160Zm220 220h160v-160H400v160Zm0 220h160v-160H400v160ZM180-400h160v-160H180v160Zm440 0h160v-160H620v160ZM180-180h160v-160H180v160Zm440 0h160v-160H620v160Z\"/>\n",
              "  </svg>\n",
              "    </button>\n",
              "\n",
              "  <style>\n",
              "    .colab-df-container {\n",
              "      display:flex;\n",
              "      gap: 12px;\n",
              "    }\n",
              "\n",
              "    .colab-df-convert {\n",
              "      background-color: #E8F0FE;\n",
              "      border: none;\n",
              "      border-radius: 50%;\n",
              "      cursor: pointer;\n",
              "      display: none;\n",
              "      fill: #1967D2;\n",
              "      height: 32px;\n",
              "      padding: 0 0 0 0;\n",
              "      width: 32px;\n",
              "    }\n",
              "\n",
              "    .colab-df-convert:hover {\n",
              "      background-color: #E2EBFA;\n",
              "      box-shadow: 0px 1px 2px rgba(60, 64, 67, 0.3), 0px 1px 3px 1px rgba(60, 64, 67, 0.15);\n",
              "      fill: #174EA6;\n",
              "    }\n",
              "\n",
              "    .colab-df-buttons div {\n",
              "      margin-bottom: 4px;\n",
              "    }\n",
              "\n",
              "    [theme=dark] .colab-df-convert {\n",
              "      background-color: #3B4455;\n",
              "      fill: #D2E3FC;\n",
              "    }\n",
              "\n",
              "    [theme=dark] .colab-df-convert:hover {\n",
              "      background-color: #434B5C;\n",
              "      box-shadow: 0px 1px 3px 1px rgba(0, 0, 0, 0.15);\n",
              "      filter: drop-shadow(0px 1px 2px rgba(0, 0, 0, 0.3));\n",
              "      fill: #FFFFFF;\n",
              "    }\n",
              "  </style>\n",
              "\n",
              "    <script>\n",
              "      const buttonEl =\n",
              "        document.querySelector('#df-ae842925-13a5-4923-a346-05a65b74f487 button.colab-df-convert');\n",
              "      buttonEl.style.display =\n",
              "        google.colab.kernel.accessAllowed ? 'block' : 'none';\n",
              "\n",
              "      async function convertToInteractive(key) {\n",
              "        const element = document.querySelector('#df-ae842925-13a5-4923-a346-05a65b74f487');\n",
              "        const dataTable =\n",
              "          await google.colab.kernel.invokeFunction('convertToInteractive',\n",
              "                                                    [key], {});\n",
              "        if (!dataTable) return;\n",
              "\n",
              "        const docLinkHtml = 'Like what you see? Visit the ' +\n",
              "          '<a target=\"_blank\" href=https://colab.research.google.com/notebooks/data_table.ipynb>data table notebook</a>'\n",
              "          + ' to learn more about interactive tables.';\n",
              "        element.innerHTML = '';\n",
              "        dataTable['output_type'] = 'display_data';\n",
              "        await google.colab.output.renderOutput(dataTable, element);\n",
              "        const docLink = document.createElement('div');\n",
              "        docLink.innerHTML = docLinkHtml;\n",
              "        element.appendChild(docLink);\n",
              "      }\n",
              "    </script>\n",
              "  </div>\n",
              "\n",
              "\n",
              "<div id=\"df-ace6ac29-819e-42ea-a993-fc82b405d0e8\">\n",
              "  <button class=\"colab-df-quickchart\" onclick=\"quickchart('df-ace6ac29-819e-42ea-a993-fc82b405d0e8')\"\n",
              "            title=\"Suggest charts\"\n",
              "            style=\"display:none;\">\n",
              "\n",
              "<svg xmlns=\"http://www.w3.org/2000/svg\" height=\"24px\"viewBox=\"0 0 24 24\"\n",
              "     width=\"24px\">\n",
              "    <g>\n",
              "        <path d=\"M19 3H5c-1.1 0-2 .9-2 2v14c0 1.1.9 2 2 2h14c1.1 0 2-.9 2-2V5c0-1.1-.9-2-2-2zM9 17H7v-7h2v7zm4 0h-2V7h2v10zm4 0h-2v-4h2v4z\"/>\n",
              "    </g>\n",
              "</svg>\n",
              "  </button>\n",
              "\n",
              "<style>\n",
              "  .colab-df-quickchart {\n",
              "      --bg-color: #E8F0FE;\n",
              "      --fill-color: #1967D2;\n",
              "      --hover-bg-color: #E2EBFA;\n",
              "      --hover-fill-color: #174EA6;\n",
              "      --disabled-fill-color: #AAA;\n",
              "      --disabled-bg-color: #DDD;\n",
              "  }\n",
              "\n",
              "  [theme=dark] .colab-df-quickchart {\n",
              "      --bg-color: #3B4455;\n",
              "      --fill-color: #D2E3FC;\n",
              "      --hover-bg-color: #434B5C;\n",
              "      --hover-fill-color: #FFFFFF;\n",
              "      --disabled-bg-color: #3B4455;\n",
              "      --disabled-fill-color: #666;\n",
              "  }\n",
              "\n",
              "  .colab-df-quickchart {\n",
              "    background-color: var(--bg-color);\n",
              "    border: none;\n",
              "    border-radius: 50%;\n",
              "    cursor: pointer;\n",
              "    display: none;\n",
              "    fill: var(--fill-color);\n",
              "    height: 32px;\n",
              "    padding: 0;\n",
              "    width: 32px;\n",
              "  }\n",
              "\n",
              "  .colab-df-quickchart:hover {\n",
              "    background-color: var(--hover-bg-color);\n",
              "    box-shadow: 0 1px 2px rgba(60, 64, 67, 0.3), 0 1px 3px 1px rgba(60, 64, 67, 0.15);\n",
              "    fill: var(--button-hover-fill-color);\n",
              "  }\n",
              "\n",
              "  .colab-df-quickchart-complete:disabled,\n",
              "  .colab-df-quickchart-complete:disabled:hover {\n",
              "    background-color: var(--disabled-bg-color);\n",
              "    fill: var(--disabled-fill-color);\n",
              "    box-shadow: none;\n",
              "  }\n",
              "\n",
              "  .colab-df-spinner {\n",
              "    border: 2px solid var(--fill-color);\n",
              "    border-color: transparent;\n",
              "    border-bottom-color: var(--fill-color);\n",
              "    animation:\n",
              "      spin 1s steps(1) infinite;\n",
              "  }\n",
              "\n",
              "  @keyframes spin {\n",
              "    0% {\n",
              "      border-color: transparent;\n",
              "      border-bottom-color: var(--fill-color);\n",
              "      border-left-color: var(--fill-color);\n",
              "    }\n",
              "    20% {\n",
              "      border-color: transparent;\n",
              "      border-left-color: var(--fill-color);\n",
              "      border-top-color: var(--fill-color);\n",
              "    }\n",
              "    30% {\n",
              "      border-color: transparent;\n",
              "      border-left-color: var(--fill-color);\n",
              "      border-top-color: var(--fill-color);\n",
              "      border-right-color: var(--fill-color);\n",
              "    }\n",
              "    40% {\n",
              "      border-color: transparent;\n",
              "      border-right-color: var(--fill-color);\n",
              "      border-top-color: var(--fill-color);\n",
              "    }\n",
              "    60% {\n",
              "      border-color: transparent;\n",
              "      border-right-color: var(--fill-color);\n",
              "    }\n",
              "    80% {\n",
              "      border-color: transparent;\n",
              "      border-right-color: var(--fill-color);\n",
              "      border-bottom-color: var(--fill-color);\n",
              "    }\n",
              "    90% {\n",
              "      border-color: transparent;\n",
              "      border-bottom-color: var(--fill-color);\n",
              "    }\n",
              "  }\n",
              "</style>\n",
              "\n",
              "  <script>\n",
              "    async function quickchart(key) {\n",
              "      const quickchartButtonEl =\n",
              "        document.querySelector('#' + key + ' button');\n",
              "      quickchartButtonEl.disabled = true;  // To prevent multiple clicks.\n",
              "      quickchartButtonEl.classList.add('colab-df-spinner');\n",
              "      try {\n",
              "        const charts = await google.colab.kernel.invokeFunction(\n",
              "            'suggestCharts', [key], {});\n",
              "      } catch (error) {\n",
              "        console.error('Error during call to suggestCharts:', error);\n",
              "      }\n",
              "      quickchartButtonEl.classList.remove('colab-df-spinner');\n",
              "      quickchartButtonEl.classList.add('colab-df-quickchart-complete');\n",
              "    }\n",
              "    (() => {\n",
              "      let quickchartButtonEl =\n",
              "        document.querySelector('#df-ace6ac29-819e-42ea-a993-fc82b405d0e8 button');\n",
              "      quickchartButtonEl.style.display =\n",
              "        google.colab.kernel.accessAllowed ? 'block' : 'none';\n",
              "    })();\n",
              "  </script>\n",
              "</div>\n",
              "\n",
              "  <div id=\"id_ba4907ae-c89e-464d-be73-df2e5eea8181\">\n",
              "    <style>\n",
              "      .colab-df-generate {\n",
              "        background-color: #E8F0FE;\n",
              "        border: none;\n",
              "        border-radius: 50%;\n",
              "        cursor: pointer;\n",
              "        display: none;\n",
              "        fill: #1967D2;\n",
              "        height: 32px;\n",
              "        padding: 0 0 0 0;\n",
              "        width: 32px;\n",
              "      }\n",
              "\n",
              "      .colab-df-generate:hover {\n",
              "        background-color: #E2EBFA;\n",
              "        box-shadow: 0px 1px 2px rgba(60, 64, 67, 0.3), 0px 1px 3px 1px rgba(60, 64, 67, 0.15);\n",
              "        fill: #174EA6;\n",
              "      }\n",
              "\n",
              "      [theme=dark] .colab-df-generate {\n",
              "        background-color: #3B4455;\n",
              "        fill: #D2E3FC;\n",
              "      }\n",
              "\n",
              "      [theme=dark] .colab-df-generate:hover {\n",
              "        background-color: #434B5C;\n",
              "        box-shadow: 0px 1px 3px 1px rgba(0, 0, 0, 0.15);\n",
              "        filter: drop-shadow(0px 1px 2px rgba(0, 0, 0, 0.3));\n",
              "        fill: #FFFFFF;\n",
              "      }\n",
              "    </style>\n",
              "    <button class=\"colab-df-generate\" onclick=\"generateWithVariable('korelasi')\"\n",
              "            title=\"Generate code using this dataframe.\"\n",
              "            style=\"display:none;\">\n",
              "\n",
              "  <svg xmlns=\"http://www.w3.org/2000/svg\" height=\"24px\"viewBox=\"0 0 24 24\"\n",
              "       width=\"24px\">\n",
              "    <path d=\"M7,19H8.4L18.45,9,17,7.55,7,17.6ZM5,21V16.75L18.45,3.32a2,2,0,0,1,2.83,0l1.4,1.43a1.91,1.91,0,0,1,.58,1.4,1.91,1.91,0,0,1-.58,1.4L9.25,21ZM18.45,9,17,7.55Zm-12,3A5.31,5.31,0,0,0,4.9,8.1,5.31,5.31,0,0,0,1,6.5,5.31,5.31,0,0,0,4.9,4.9,5.31,5.31,0,0,0,6.5,1,5.31,5.31,0,0,0,8.1,4.9,5.31,5.31,0,0,0,12,6.5,5.46,5.46,0,0,0,6.5,12Z\"/>\n",
              "  </svg>\n",
              "    </button>\n",
              "    <script>\n",
              "      (() => {\n",
              "      const buttonEl =\n",
              "        document.querySelector('#id_ba4907ae-c89e-464d-be73-df2e5eea8181 button.colab-df-generate');\n",
              "      buttonEl.style.display =\n",
              "        google.colab.kernel.accessAllowed ? 'block' : 'none';\n",
              "\n",
              "      buttonEl.onclick = () => {\n",
              "        google.colab.notebook.generateWithVariable('korelasi');\n",
              "      }\n",
              "      })();\n",
              "    </script>\n",
              "  </div>\n",
              "\n",
              "    </div>\n",
              "  </div>\n"
            ],
            "application/vnd.google.colaboratory.intrinsic+json": {
              "type": "dataframe",
              "variable_name": "korelasi",
              "summary": "{\n  \"name\": \"korelasi\",\n  \"rows\": 10,\n  \"fields\": [\n    {\n      \"column\": \"usia_istri\",\n      \"properties\": {\n        \"dtype\": \"number\",\n        \"std\": 0.34982763188384,\n        \"min\": -0.18608296611242628,\n        \"max\": 1.0,\n        \"num_unique_values\": 10,\n        \"samples\": [\n          0.11841161035515188,\n          -0.07037294781985588,\n          0.015477444880323758\n        ],\n        \"semantic_type\": \"\",\n        \"description\": \"\"\n      }\n    },\n    {\n      \"column\": \"pendidikan_istri\",\n      \"properties\": {\n        \"dtype\": \"number\",\n        \"std\": 0.4455353888781801,\n        \"min\": -0.38763032873734404,\n        \"max\": 1.0,\n        \"num_unique_values\": 10,\n        \"samples\": [\n          -0.34497992208579903,\n          1.0,\n          -0.06858165543206288\n        ],\n        \"semantic_type\": \"\",\n        \"description\": \"\"\n      }\n    },\n    {\n      \"column\": \"pendidikan_suami\",\n      \"properties\": {\n        \"dtype\": \"number\",\n        \"std\": 0.4240789693690401,\n        \"min\": -0.33355724817845944,\n        \"max\": 1.0,\n        \"num_unique_values\": 10,\n        \"samples\": [\n          -0.2881302952258148,\n          0.6202675836589943,\n          0.00024176137405872915\n        ],\n        \"semantic_type\": \"\",\n        \"description\": \"\"\n      }\n    },\n    {\n      \"column\": \"jumlah_anak\",\n      \"properties\": {\n        \"dtype\": \"number\",\n        \"std\": 0.3671977302162858,\n        \"min\": -0.21203333391195417,\n        \"max\": 1.0,\n        \"num_unique_values\": 10,\n        \"samples\": [\n          0.13540706238429176,\n          -0.21203333391195417,\n          0.1331144101337931\n        ],\n        \"semantic_type\": \"\",\n        \"description\": \"\"\n      }\n    },\n    {\n      \"column\": \"agama\",\n      \"properties\": {\n        \"dtype\": \"number\",\n        \"std\": 0.3240634353779851,\n        \"min\": -0.10161678191499002,\n        \"max\": 1.0,\n        \"num_unique_values\": 10,\n        \"samples\": [\n          -0.06381479999523514,\n          0.23923051962288233,\n          -0.06087508432777187\n        ],\n        \"semantic_type\": \"\",\n        \"description\": \"\"\n      }\n    },\n    {\n      \"column\": \"istri_bekerja\",\n      \"properties\": {\n        \"dtype\": \"number\",\n        \"std\": 0.32198576802866413,\n        \"min\": -0.06858165543206288,\n        \"max\": 1.0,\n        \"num_unique_values\": 10,\n        \"samples\": [\n          0.014160715188854858,\n          -0.06858165543206288,\n          1.0\n        ],\n        \"semantic_type\": \"\",\n        \"description\": \"\"\n      }\n    },\n    {\n      \"column\": \"kesibukan_suami\",\n      \"properties\": {\n        \"dtype\": \"number\",\n        \"std\": 0.3960754286983229,\n        \"min\": -0.38763032873734404,\n        \"max\": 1.0,\n        \"num_unique_values\": 10,\n        \"samples\": [\n          0.11959840724487053,\n          -0.38763032873734404,\n          0.007193622520783724\n        ],\n        \"semantic_type\": \"\",\n        \"description\": \"\"\n      }\n    },\n    {\n      \"column\": \"standar_hidup\",\n      \"properties\": {\n        \"dtype\": \"number\",\n        \"std\": 0.37799184602548674,\n        \"min\": -0.29329839680231123,\n        \"max\": 1.0,\n        \"num_unique_values\": 10,\n        \"samples\": [\n          -0.2705145495054134,\n          0.38057880524622734,\n          -0.0681842986347876\n        ],\n        \"semantic_type\": \"\",\n        \"description\": \"\"\n      }\n    },\n    {\n      \"column\": \"ekspose_media\",\n      \"properties\": {\n        \"dtype\": \"number\",\n        \"std\": 0.3864519226253356,\n        \"min\": -0.34497992208579903,\n        \"max\": 1.0,\n        \"num_unique_values\": 10,\n        \"samples\": [\n          1.0,\n          -0.34497992208579903,\n          0.014160715188854858\n        ],\n        \"semantic_type\": \"\",\n        \"description\": \"\"\n      }\n    },\n    {\n      \"column\": \"metode\",\n      \"properties\": {\n        \"dtype\": \"number\",\n        \"std\": 0.32919767542623163,\n        \"min\": -0.15765252927668838,\n        \"max\": 1.0,\n        \"num_unique_values\": 10,\n        \"samples\": [\n          -0.15765252927668838,\n          0.29327065700228194,\n          0.020513749827491497\n        ],\n        \"semantic_type\": \"\",\n        \"description\": \"\"\n      }\n    }\n  ]\n}"
            }
          },
          "metadata": {},
          "execution_count": 24
        }
      ],
      "source": [
        "# melihat korelasi antar atribut\n",
        "\n",
        "korelasi = data.corr()\n",
        "korelasi"
      ]
    },
    {
      "cell_type": "code",
      "execution_count": 25,
      "id": "22554d82",
      "metadata": {
        "execution": {
          "iopub.execute_input": "2022-10-30T14:11:29.752581Z",
          "iopub.status.busy": "2022-10-30T14:11:29.752142Z",
          "iopub.status.idle": "2022-10-30T14:11:30.622584Z",
          "shell.execute_reply": "2022-10-30T14:11:30.621343Z"
        },
        "papermill": {
          "duration": 0.889075,
          "end_time": "2022-10-30T14:11:30.625462",
          "exception": false,
          "start_time": "2022-10-30T14:11:29.736387",
          "status": "completed"
        },
        "tags": [],
        "id": "22554d82",
        "outputId": "387af69c-08cc-47b4-a886-ff9f385fcd90",
        "colab": {
          "base_uri": "https://localhost:8080/",
          "height": 750
        }
      },
      "outputs": [
        {
          "output_type": "execute_result",
          "data": {
            "text/plain": [
              "<Axes: >"
            ]
          },
          "metadata": {},
          "execution_count": 25
        },
        {
          "output_type": "display_data",
          "data": {
            "text/plain": [
              "<Figure size 800x800 with 2 Axes>"
            ],
            "image/png": "[encoded data removed]"
          },
          "metadata": {}
        }
      ],
      "source": [
        "plt.figure(figsize=(8,8))\n",
        "sns.heatmap(korelasi, cbar=True, square=True, fmt='.2f', annot=True, annot_kws={'size':10}, cmap='YlGnBu')"
      ]
    },
    {
      "cell_type": "markdown",
      "id": "b42cabd1",
      "metadata": {
        "papermill": {
          "duration": 0.015261,
          "end_time": "2022-10-30T14:11:30.657567",
          "exception": false,
          "start_time": "2022-10-30T14:11:30.642306",
          "status": "completed"
        },
        "tags": [],
        "id": "b42cabd1"
      },
      "source": [
        "# 4. Modeling"
      ]
    },
    {
      "cell_type": "code",
      "execution_count": 26,
      "id": "e42b9902",
      "metadata": {
        "execution": {
          "iopub.execute_input": "2022-10-30T14:11:30.691114Z",
          "iopub.status.busy": "2022-10-30T14:11:30.690069Z",
          "iopub.status.idle": "2022-10-30T14:11:30.697345Z",
          "shell.execute_reply": "2022-10-30T14:11:30.696202Z"
        },
        "papermill": {
          "duration": 0.02689,
          "end_time": "2022-10-30T14:11:30.700103",
          "exception": false,
          "start_time": "2022-10-30T14:11:30.673213",
          "status": "completed"
        },
        "tags": [],
        "id": "e42b9902"
      },
      "outputs": [],
      "source": [
        "# pisahkan antara atribut biasa dengan kelas (atribut spesial)\n",
        "\n",
        "x = data.drop(columns='metode')\n",
        "y = data['metode']"
      ]
    },
    {
      "cell_type": "code",
      "execution_count": 27,
      "id": "bff87e06",
      "metadata": {
        "execution": {
          "iopub.execute_input": "2022-10-30T14:11:30.732954Z",
          "iopub.status.busy": "2022-10-30T14:11:30.732570Z",
          "iopub.status.idle": "2022-10-30T14:11:30.742752Z",
          "shell.execute_reply": "2022-10-30T14:11:30.741210Z"
        },
        "papermill": {
          "duration": 0.029593,
          "end_time": "2022-10-30T14:11:30.745316",
          "exception": false,
          "start_time": "2022-10-30T14:11:30.715723",
          "status": "completed"
        },
        "tags": [],
        "id": "bff87e06",
        "outputId": "1ba52c7a-ff8d-4fad-d40d-4345e6f9d617",
        "colab": {
          "base_uri": "https://localhost:8080/"
        }
      },
      "outputs": [
        {
          "output_type": "stream",
          "name": "stdout",
          "text": [
            "data training:\n",
            "(1000, 9)\n",
            "(1000,)\n",
            "----------------\n",
            "data testing:\n",
            "(334, 9)\n",
            "(334,)\n"
          ]
        }
      ],
      "source": [
        "# split data menjadi data training dan data testing dengan proporsi 75% data training, dan 25% data testing\n",
        "\n",
        "xtrain, xtest, ytrain, ytest = train_test_split(x, y, test_size=0.25, random_state=0)\n",
        "\n",
        "print('data training:')\n",
        "print(xtrain.shape)\n",
        "print(ytrain.shape)\n",
        "print('----------------')\n",
        "print('data testing:')\n",
        "print(xtest.shape)\n",
        "print(ytest.shape)"
      ]
    },
    {
      "cell_type": "markdown",
      "id": "07685faa",
      "metadata": {
        "papermill": {
          "duration": 0.016005,
          "end_time": "2022-10-30T14:11:30.777099",
          "exception": false,
          "start_time": "2022-10-30T14:11:30.761094",
          "status": "completed"
        },
        "tags": [],
        "id": "07685faa"
      },
      "source": [
        "### 4.1. Algoritme k-NN"
      ]
    },
    {
      "cell_type": "code",
      "execution_count": 28,
      "id": "196c2fb0",
      "metadata": {
        "execution": {
          "iopub.execute_input": "2022-10-30T14:11:30.810690Z",
          "iopub.status.busy": "2022-10-30T14:11:30.809994Z",
          "iopub.status.idle": "2022-10-30T14:11:30.824286Z",
          "shell.execute_reply": "2022-10-30T14:11:30.822958Z"
        },
        "papermill": {
          "duration": 0.034057,
          "end_time": "2022-10-30T14:11:30.826959",
          "exception": false,
          "start_time": "2022-10-30T14:11:30.792902",
          "status": "completed"
        },
        "tags": [],
        "id": "196c2fb0",
        "outputId": "458bd22a-974a-4d6c-ff93-b633d5f3c4af",
        "colab": {
          "base_uri": "https://localhost:8080/"
        }
      },
      "outputs": [
        {
          "output_type": "stream",
          "name": "stdout",
          "text": [
            "0.5359281437125748\n"
          ]
        }
      ],
      "source": [
        "knn = KNeighborsClassifier(n_neighbors=5, weights='distance', p=2, metric='euclidean')\n",
        "\n",
        "# lakukan training\n",
        "knn.fit(xtrain, ytrain)\n",
        "\n",
        "# lakukan klasifikasi dengan algoritme k-NN\n",
        "ypred = knn.predict(xtest)\n",
        "\n",
        "# hitung akurasi\n",
        "print(accuracy_score(ytest, ypred))"
      ]
    },
    {
      "cell_type": "markdown",
      "id": "543de7d8",
      "metadata": {
        "papermill": {
          "duration": 0.01538,
          "end_time": "2022-10-30T14:11:30.858309",
          "exception": false,
          "start_time": "2022-10-30T14:11:30.842929",
          "status": "completed"
        },
        "tags": [],
        "id": "543de7d8"
      },
      "source": [
        "### 4.3. Algoritme Naive Bayes"
      ]
    },
    {
      "cell_type": "code",
      "execution_count": 29,
      "id": "76369273",
      "metadata": {
        "execution": {
          "iopub.execute_input": "2022-10-30T14:11:30.892239Z",
          "iopub.status.busy": "2022-10-30T14:11:30.891807Z",
          "iopub.status.idle": "2022-10-30T14:11:30.905952Z",
          "shell.execute_reply": "2022-10-30T14:11:30.905181Z"
        },
        "papermill": {
          "duration": 0.038591,
          "end_time": "2022-10-30T14:11:30.912795",
          "exception": false,
          "start_time": "2022-10-30T14:11:30.874204",
          "status": "completed"
        },
        "tags": [],
        "id": "76369273",
        "outputId": "3354799c-b87d-4150-e61a-ad64678a0bc4",
        "colab": {
          "base_uri": "https://localhost:8080/"
        }
      },
      "outputs": [
        {
          "output_type": "stream",
          "name": "stdout",
          "text": [
            "0.4550898203592814\n"
          ]
        }
      ],
      "source": [
        "nb = GaussianNB()\n",
        "\n",
        "# lakukan training\n",
        "nb.fit(xtrain, ytrain)\n",
        "\n",
        "# lakukan klasifikasi dengan algoritme Naive Bayes\n",
        "ypred = nb.predict(xtest)\n",
        "\n",
        "# hitung akurasi\n",
        "print(accuracy_score(ytest, ypred))"
      ]
    },
    {
      "cell_type": "markdown",
      "id": "e72b422f",
      "metadata": {
        "papermill": {
          "duration": 0.023606,
          "end_time": "2022-10-30T14:11:30.954201",
          "exception": false,
          "start_time": "2022-10-30T14:11:30.930595",
          "status": "completed"
        },
        "tags": [],
        "id": "e72b422f"
      },
      "source": [
        "### 4.3. Algoritme Decision Tree"
      ]
    },
    {
      "cell_type": "code",
      "execution_count": 30,
      "id": "ba9bdaec",
      "metadata": {
        "execution": {
          "iopub.execute_input": "2022-10-30T14:11:31.001657Z",
          "iopub.status.busy": "2022-10-30T14:11:31.001214Z",
          "iopub.status.idle": "2022-10-30T14:11:31.016066Z",
          "shell.execute_reply": "2022-10-30T14:11:31.014234Z"
        },
        "papermill": {
          "duration": 0.039148,
          "end_time": "2022-10-30T14:11:31.018581",
          "exception": false,
          "start_time": "2022-10-30T14:11:30.979433",
          "status": "completed"
        },
        "tags": [],
        "id": "ba9bdaec",
        "outputId": "1abcfdfe-5b85-4b55-fec2-fcccfd03c490",
        "colab": {
          "base_uri": "https://localhost:8080/"
        }
      },
      "outputs": [
        {
          "output_type": "stream",
          "name": "stdout",
          "text": [
            "0.437125748502994\n"
          ]
        }
      ],
      "source": [
        "dt = DecisionTreeClassifier()\n",
        "\n",
        "# lakukan training\n",
        "dt.fit(xtrain, ytrain)\n",
        "\n",
        "# lakukan klasifikasi dengan algoritme Decision Tree\n",
        "ypred = dt.predict(xtest)\n",
        "\n",
        "# hitung akurasi\n",
        "print(accuracy_score(ytest, ypred))"
      ]
    },
    {
      "cell_type": "markdown",
      "id": "5bf1c95f",
      "metadata": {
        "papermill": {
          "duration": 0.018418,
          "end_time": "2022-10-30T14:11:31.053503",
          "exception": false,
          "start_time": "2022-10-30T14:11:31.035085",
          "status": "completed"
        },
        "tags": [],
        "id": "5bf1c95f"
      },
      "source": [
        "# 5. Evaluation"
      ]
    },
    {
      "cell_type": "markdown",
      "id": "23622890",
      "metadata": {
        "papermill": {
          "duration": 0.015784,
          "end_time": "2022-10-30T14:11:31.086916",
          "exception": false,
          "start_time": "2022-10-30T14:11:31.071132",
          "status": "completed"
        },
        "tags": [],
        "id": "23622890"
      },
      "source": [
        "##### Perbandingan Algoritme k-NN, Naive Bayes, dan Decision Tree"
      ]
    },
    {
      "cell_type": "code",
      "execution_count": 31,
      "id": "9e2cf71b",
      "metadata": {
        "execution": {
          "iopub.execute_input": "2022-10-30T14:11:31.121304Z",
          "iopub.status.busy": "2022-10-30T14:11:31.120649Z",
          "iopub.status.idle": "2022-10-30T14:11:31.137341Z",
          "shell.execute_reply": "2022-10-30T14:11:31.135622Z"
        },
        "papermill": {
          "duration": 0.036807,
          "end_time": "2022-10-30T14:11:31.139735",
          "exception": false,
          "start_time": "2022-10-30T14:11:31.102928",
          "status": "completed"
        },
        "tags": [],
        "id": "9e2cf71b",
        "outputId": "b988415d-7e94-494b-ace5-a7d49697bf17",
        "colab": {
          "base_uri": "https://localhost:8080/"
        }
      },
      "outputs": [
        {
          "output_type": "stream",
          "name": "stdout",
          "text": [
            "[0.5359281437125748, 0.4550898203592814, 0.437125748502994]\n"
          ]
        }
      ],
      "source": [
        "models = [knn, nb, dt]\n",
        "nilai_akurasi = []\n",
        "for model in models:\n",
        "    ypred = model.predict(xtest)\n",
        "    akurasi = accuracy_score(ytest, ypred)\n",
        "    nilai_akurasi.append(akurasi)\n",
        "print(nilai_akurasi)"
      ]
    },
    {
      "cell_type": "code",
      "execution_count": 32,
      "id": "b6f7759f",
      "metadata": {
        "execution": {
          "iopub.execute_input": "2022-10-30T14:11:31.177547Z",
          "iopub.status.busy": "2022-10-30T14:11:31.176272Z",
          "iopub.status.idle": "2022-10-30T14:11:31.391853Z",
          "shell.execute_reply": "2022-10-30T14:11:31.390714Z"
        },
        "papermill": {
          "duration": 0.238207,
          "end_time": "2022-10-30T14:11:31.394725",
          "exception": false,
          "start_time": "2022-10-30T14:11:31.156518",
          "status": "completed"
        },
        "tags": [],
        "id": "b6f7759f",
        "outputId": "bfb13896-8612-4c20-9fb9-0432dde0e2c1",
        "colab": {
          "base_uri": "https://localhost:8080/",
          "height": 487
        }
      },
      "outputs": [
        {
          "output_type": "display_data",
          "data": {
            "text/plain": [
              "<Figure size 640x480 with 1 Axes>"
            ],
            "image/png": "[encoded data removed]"
          },
          "metadata": {}
        }
      ],
      "source": [
        "plt.bar(['k-NN', 'Naive Bayes', 'Decision Tree'],nilai_akurasi)\n",
        "plt.ylim(0.00, 1.00)\n",
        "plt.title(\"Perbandingan Algoritme Klasifikasi\", fontsize=15, color='r')\n",
        "plt.xlabel('Algoritme Klasifikasi', fontsize=12, color='g')\n",
        "plt.ylabel('Nilai Akurasi', fontsize=12, color='g')\n",
        "plt.tight_layout()\n",
        "plt.show()"
      ]
    },
    {
      "cell_type": "markdown",
      "id": "db6343a8",
      "metadata": {
        "papermill": {
          "duration": 0.016138,
          "end_time": "2022-10-30T14:11:31.430022",
          "exception": false,
          "start_time": "2022-10-30T14:11:31.413884",
          "status": "completed"
        },
        "tags": [],
        "id": "db6343a8"
      },
      "source": [
        "Dari ketiga algoritme di atas terlihat bahwa algoritme k-NN menghasilkan nilai akurasi tertinggi untuk klasifikasi pemilihan kontrasepsi"
      ]
    },
    {
      "cell_type": "markdown",
      "id": "c2dd6c29",
      "metadata": {
        "papermill": {
          "duration": 0.015898,
          "end_time": "2022-10-30T14:11:31.462336",
          "exception": false,
          "start_time": "2022-10-30T14:11:31.446438",
          "status": "completed"
        },
        "tags": [],
        "id": "c2dd6c29"
      },
      "source": [
        "# 6. Deployment"
      ]
    },
    {
      "cell_type": "markdown",
      "id": "6f05ff04",
      "metadata": {
        "papermill": {
          "duration": 0.015998,
          "end_time": "2022-10-30T14:11:31.494687",
          "exception": false,
          "start_time": "2022-10-30T14:11:31.478689",
          "status": "completed"
        },
        "tags": [],
        "id": "6f05ff04"
      },
      "source": [
        "Akan menerapkan **algoritme k-NN** untuk klasifikasi pemilihan kontrasepsi"
      ]
    }
  ],
  "metadata": {
    "kernelspec": {
      "display_name": "Python 3",
      "language": "python",
      "name": "python3"
    },
    "language_info": {
      "codemirror_mode": {
        "name": "ipython",
        "version": 3
      },
      "file_extension": ".py",
      "mimetype": "text/x-python",
      "name": "python",
      "nbconvert_exporter": "python",
      "pygments_lexer": "ipython3",
      "version": "3.7.12"
    },
    "papermill": {
      "default_parameters": {},
      "duration": 14.895643,
      "end_time": "2022-10-30T14:11:32.334216",
      "environment_variables": {},
      "exception": null,
      "input_path": "__notebook__.ipynb",
      "output_path": "__notebook__.ipynb",
      "parameters": {},
      "start_time": "2022-10-30T14:11:17.438573",
      "version": "2.3.4"
    },
    "colab": {
      "provenance": [],
      "include_colab_link": true
    }
  },
  "nbformat": 4,
  "nbformat_minor": 5
}